{
 "cells": [
  {
   "cell_type": "markdown",
   "id": "767ea749-9be7-4137-aeff-44d751855c53",
   "metadata": {},
   "source": [
    "# Data Science Tools and Ecosystem"
   ]
  },
  {
   "cell_type": "markdown",
   "id": "7cd2c244-3826-4aea-8c1a-7de09c91a84d",
   "metadata": {},
   "source": [
    "In this notebook, Data Science Tools and Ecosystem are summarized.\n"
   ]
  },
  {
   "cell_type": "markdown",
   "id": "96e56134-251f-4ee2-b1dd-0b631eeea537",
   "metadata": {},
   "source": [
    "Some of the popular languages that Data Scientists use are:\n",
    "1. Python\n",
    "2. R\n",
    "3. SQL\n"
   ]
  },
  {
   "cell_type": "markdown",
   "id": "259d9599-7b22-4363-b9d6-5a67f5ba7b35",
   "metadata": {},
   "source": [
    "Some of the commonly used libraries used by Data Scientists include:\n",
    "1. Pandas\n",
    "2. NumPy\n",
    "3. SciPy\n"
   ]
  },
  {
   "cell_type": "markdown",
   "id": "6e688ec7-0561-448b-b7a4-b469eb5c75da",
   "metadata": {},
   "source": [
    "| Data Science Tools     |\n",
    "|------------------------|\n",
    "| Jupyter Notebook        |\n",
    "| RStudio                |\n",
    "| Apache Zeppelin         |\n"
   ]
  },
  {
   "cell_type": "code",
   "execution_count": 2,
   "id": "486ed4fa-21be-4a13-b881-3ea45c77e6de",
   "metadata": {},
   "outputs": [],
   "source": [
    "### Below are a few examples of evaluating arithmetic expressions in Python.\n"
   ]
  },
  {
   "cell_type": "code",
   "execution_count": 3,
   "id": "4aa61448-4e5f-4373-bfcd-a7fcef244730",
   "metadata": {},
   "outputs": [
    {
     "data": {
      "text/plain": [
       "17"
      ]
     },
     "execution_count": 3,
     "metadata": {},
     "output_type": "execute_result"
    }
   ],
   "source": [
    "# This is a simple arithmetic expression to multiply then add integers\n",
    "(3 * 4) + 5\n"
   ]
  },
  {
   "cell_type": "code",
   "execution_count": 4,
   "id": "4150dd56-92e8-40aa-bb62-2b93fdecf98e",
   "metadata": {},
   "outputs": [
    {
     "data": {
      "text/plain": [
       "3.3333333333333335"
      ]
     },
     "execution_count": 4,
     "metadata": {},
     "output_type": "execute_result"
    }
   ],
   "source": [
    "# This will convert 200 minutes to hours by dividing by 60\n",
    "200 / 60\n"
   ]
  },
  {
   "cell_type": "markdown",
   "id": "b5c8596f-fe53-4a02-b362-78cb011de1cb",
   "metadata": {},
   "source": [
    "**Objectives:**\n",
    "- List popular languages for Data Science\n",
    "- List commonly used libraries for Data Science\n",
    "- Provide examples of arithmetic expressions in Python\n",
    "- Convert minutes to hours using Python code\n"
   ]
  },
  {
   "cell_type": "markdown",
   "id": "3d27c95a-401c-4d81-b8ff-065d29bc0a2e",
   "metadata": {},
   "source": [
    "## Author\n",
    "VISHNU P V"
   ]
  },
  {
   "cell_type": "code",
   "execution_count": null,
   "id": "1559712d-df36-4e1b-97bf-8bcdea2cc248",
   "metadata": {},
   "outputs": [],
   "source": []
  }
 ],
 "metadata": {
  "kernelspec": {
   "display_name": "Python 3 (ipykernel)",
   "language": "python",
   "name": "python3"
  },
  "language_info": {
   "codemirror_mode": {
    "name": "ipython",
    "version": 3
   },
   "file_extension": ".py",
   "mimetype": "text/x-python",
   "name": "python",
   "nbconvert_exporter": "python",
   "pygments_lexer": "ipython3",
   "version": "3.12.4"
  }
 },
 "nbformat": 4,
 "nbformat_minor": 5
}
